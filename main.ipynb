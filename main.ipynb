{
 "cells": [
  {
   "cell_type": "code",
   "execution_count": 150,
   "metadata": {},
   "outputs": [],
   "source": [
    "import numpy as np\n",
    "import pandas as pd\n",
    "import matplotlib.pyplot as plt"
   ]
  },
  {
   "cell_type": "code",
   "execution_count": 151,
   "metadata": {},
   "outputs": [],
   "source": [
    "input_data = pd.read_csv(\"./train.csv\")\n",
    "\n",
    "labels = input_data['label']\n",
    "\n",
    "numerical_columns = input_data.drop(columns=['label'])\n",
    "\n",
    "standardized_data = (input_data-np.mean(input_data,axis=0))/np.std(input_data,axis=0)\n",
    "\n",
    "input_data = pd.concat([labels, standardized_data], axis=1)\n"
   ]
  },
  {
   "cell_type": "code",
   "execution_count": 152,
   "metadata": {},
   "outputs": [],
   "source": [
    "data=np.array(input_data)\n",
    "m,n=data.shape\n",
    "np.random.shuffle(data)"
   ]
  },
  {
   "cell_type": "code",
   "execution_count": 153,
   "metadata": {},
   "outputs": [],
   "source": [
    "data_dev = data[0:1000].T\n",
    "Xdev=data_dev[1:n]\n",
    "ydev=data_dev[0]\n",
    "\n",
    "data_train=data[1000:m].T\n",
    "Xtrain=data_train[1:n]\n",
    "ytrain = data_train[0]"
   ]
  },
  {
   "cell_type": "code",
   "execution_count": 154,
   "metadata": {},
   "outputs": [],
   "source": [
    "def RELU(x):\n",
    "    return np.maximum(0,x)\n",
    "\n",
    "def dRELU(x):\n",
    "    return x>0\n",
    "\n",
    "def LRELU(x):\n",
    "    a=0.01\n",
    "    return np.maximum(a*x, x)\n",
    "\n",
    "def dLRELU(x):\n",
    "    a=0.01\n",
    "    return (x>0) + a*(x<=0)\n",
    "\n",
    "def tanh(x):\n",
    "    return np.tanh(x)\n",
    "\n",
    "def dtanh(x):\n",
    "    return 1 - np.tanh(x)**2\n",
    "\n",
    "def softmax(x):\n",
    "    e = np.exp(x)\n",
    "    return e/np.sum(e, axis=0)"
   ]
  },
  {
   "cell_type": "code",
   "execution_count": 155,
   "metadata": {},
   "outputs": [],
   "source": [
    "def onehot(x):\n",
    "    ohX=np.zeros((x.size,10))\n",
    "    ohX[np.arange(x.size),x.astype(int)]=1\n",
    "    return ohX.T"
   ]
  },
  {
   "cell_type": "code",
   "execution_count": 156,
   "metadata": {},
   "outputs": [],
   "source": [
    "def initparams(X):\n",
    "    m,n=X.shape\n",
    "    c=50\n",
    "    W1 = np.random.rand(c, m) - 0.5\n",
    "    b1 = np.random.rand(c, 1) - 0.5\n",
    "    \n",
    "    W2 = np.random.rand(10, c) - 0.5\n",
    "    b2 = np.random.rand(10, 1) - 0.5\n",
    "    \n",
    "    return W1,b1,W2,b2\n",
    "\n",
    "def fpass(X,W1,b1,W2,b2):\n",
    "    Z1=np.dot(W1,X)+b1\n",
    "    A1=RELU(Z1)\n",
    "    \n",
    "    Z2 = np.dot(W2,A1)+b2\n",
    "    A2=softmax(Z2)\n",
    "    \n",
    "    return Z1,A1,Z2,A2\n",
    "    \n",
    "def bpass(X,y,Z1,A1,Z2,A2,W2):\n",
    "    m=y.size\n",
    "    y=onehot(y)\n",
    "    \n",
    "    dZ2 = A2 - y\n",
    "    dW2 = 1 / m * np.dot(dZ2,A1.T)\n",
    "    db2 = 1 / m * np.sum(dZ2, axis = 1, keepdims = True)\n",
    "    \n",
    "    dZ1 = np.dot(W2.T,dZ2) * dRELU(A1)\n",
    "    dW1 = 1 / m * np.dot(dZ1,X.T)\n",
    "    db1 = 1 / m * np.sum(dZ1, axis = 1, keepdims = True)\n",
    "    \n",
    "    return dW1,db1,dW2,db2\n",
    "\n",
    "def updateparams(W1,b1,W2,b2,dW1,db1,dW2,db2,lr):\n",
    "    W1= W1 - lr*dW1\n",
    "    b1= b1 - lr*db1\n",
    "    \n",
    "    W2= W2 - lr*dW2\n",
    "    b2= b2 - lr*db2\n",
    "    \n",
    "    return W1,b1,W2,b2\n",
    "\n",
    "def predict(x):\n",
    "    return np.argmax(x,0)\n",
    "\n",
    "def accuracy(preds,x):\n",
    "    return np.sum(preds==x)/x.size\n",
    "\n",
    "def train(X,y,Xd,yd,itr,lr):\n",
    "    W1,b1,W2,b2=initparams(X)\n",
    "    \n",
    "    for i in range(itr+1):\n",
    "        Z1,A1,Z2,A2=fpass(X,W1,b1,W2,b2)\n",
    "        devZ1,devA1,devZ2,devA2=fpass(Xd,W1,b1,W2,b2)\n",
    "        dW1,db1,dW2,db2=bpass(X,y,Z1,A1,Z2,A2,W2)\n",
    "        W1,b1,W2,b2=updateparams(W1,b1,W2,b2,dW1,db1,dW2,db2,lr)\n",
    "        \n",
    "        if i%50 ==0:\n",
    "            print(f\"iteration: {i}\")\n",
    "            print(f\"accuracy: {accuracy(predict(A2),y)}\")\n",
    "            print(f\"DEV accuracy: {accuracy(predict(devA2),yd)}\")\n",
    "    "
   ]
  },
  {
   "cell_type": "code",
   "execution_count": 157,
   "metadata": {},
   "outputs": [
    {
     "name": "stdout",
     "output_type": "stream",
     "text": [
      "iteration: 0\n",
      "accuracy: 0.08552542372881355\n",
      "DEV accuracy: 0.095\n",
      "iteration: 50\n",
      "accuracy: 0.7331864406779661\n",
      "DEV accuracy: 0.713\n",
      "iteration: 100\n",
      "accuracy: 0.7664406779661017\n",
      "DEV accuracy: 0.757\n",
      "iteration: 150\n",
      "accuracy: 0.7880508474576271\n",
      "DEV accuracy: 0.78\n",
      "iteration: 200\n",
      "accuracy: 0.8057966101694916\n",
      "DEV accuracy: 0.797\n"
     ]
    }
   ],
   "source": [
    "train(Xtrain, ytrain, Xdev, ydev, 200, 0.1)\n"
   ]
  },
  {
   "cell_type": "markdown",
   "metadata": {},
   "source": []
  }
 ],
 "metadata": {
  "kernelspec": {
   "display_name": "base",
   "language": "python",
   "name": "python3"
  },
  "language_info": {
   "codemirror_mode": {
    "name": "ipython",
    "version": 3
   },
   "file_extension": ".py",
   "mimetype": "text/x-python",
   "name": "python",
   "nbconvert_exporter": "python",
   "pygments_lexer": "ipython3",
   "version": "3.11.4"
  }
 },
 "nbformat": 4,
 "nbformat_minor": 2
}
