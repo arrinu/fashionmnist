{
 "cells": [
  {
   "cell_type": "code",
   "execution_count": null,
   "metadata": {},
   "outputs": [],
   "source": [
    "import numpy as np\n",
    "import pandas as pd\n",
    "import matplotlib.pyplot as plt"
   ]
  },
  {
   "cell_type": "code",
   "execution_count": null,
   "metadata": {},
   "outputs": [],
   "source": [
    "input_data = pd.read_csv(\"./train.csv\")\n",
    "input_data.head()"
   ]
  },
  {
   "cell_type": "code",
   "execution_count": null,
   "metadata": {},
   "outputs": [],
   "source": [
    "data=np.array(input_data)\n",
    "print(data)\n",
    "m,n=data.shape\n",
    "np.random.shuffle(data)"
   ]
  },
  {
   "cell_type": "code",
   "execution_count": null,
   "metadata": {},
   "outputs": [],
   "source": [
    "data_dev = data[0:1000].T\n",
    "Xdev=ind[1:n]\n",
    "ydev=data_dev[0]\n",
    "\n",
    "data_train=data[1000:m].T\n",
    "Xtrain=data_train[1:n]\n",
    "ytrain = data_train[0]\n",
    "Xtrain.shape\n",
    "ytrain.shape"
   ]
  },
  {
   "cell_type": "code",
   "execution_count": null,
   "metadata": {},
   "outputs": [],
   "source": [
    "def RELU(x):\n",
    "    return np.maximum(0,x)\n",
    "\n",
    "def dRELU(x):\n",
    "    return x>0\n",
    "\n",
    "def tanh(x):\n",
    "    return np.tanh(x)\n",
    "\n",
    "def dtanh(x):\n",
    "    return 1 - np.tanh(x)**2\n",
    "\n",
    "def softmax(x):\n",
    "    return np.exp(x) / np.sum(np.exp(x))"
   ]
  },
  {
   "cell_type": "code",
   "execution_count": null,
   "metadata": {},
   "outputs": [],
   "source": [
    "def onehot(x):\n",
    "    ohX=np.zeros((x.size,x.max()+1))\n",
    "    ohX[np.arange(x.size),x]=1\n",
    "    return ohX.T"
   ]
  },
  {
   "cell_type": "code",
   "execution_count": null,
   "metadata": {},
   "outputs": [],
   "source": [
    "def initparams(X):\n",
    "    m,n=X.shape\n",
    "    W1 = np.random.rand(10, m) - 0.5\n",
    "    b1 = np.random.rand(10, 1) - 0.5\n",
    "    \n",
    "    W2 = np.random.rand(10, 10) - 0.5\n",
    "    b2 = np.random.rand(10, 1) - 0.5\n",
    "    \n",
    "    return W1,b1,W2,b2\n",
    "\n",
    "def fpass(X,W1,b1,W2,b2):\n",
    "    Z1=np.dot(W1,X)+b1\n",
    "    A1=tanh(Z1)\n",
    "    \n",
    "    Z2 = np.dot(W2,A1)+b2\n",
    "    A2=softmax(Z2)\n",
    "    \n",
    "    return Z1,A1,Z2,A2\n",
    "    \n",
    "def bpass(X,y,Z1,A1,Z2,A2,W2):\n",
    "    m=y.size\n",
    "    y=onehot(y)\n",
    "    \n",
    "    dZ2 = A2 - y\n",
    "    dW2 = 1 / m * np.dot(dZ2,A1.T)\n",
    "    db2 = 1 / m * np.sum(dZ2, axis = 1, keepdims = True)\n",
    "    \n",
    "    dZ1 = np.dot(W2.T,dZ2) * dtanh(A1)\n",
    "    dW1 = 1 / m * np.dot(dZ1,X.T)\n",
    "    db1 = 1 / m * np.sum(dZ1, axis = 1, keepdims = True)\n",
    "    \n",
    "    return dW1,db1,dW2,db2\n",
    "\n",
    "def updateparams(W1,b1,W2,b2,dW1,db1,dW2,db2,lr):\n",
    "    W1= W1 - lr*dW1\n",
    "    b1= b1 - lr*db1\n",
    "    \n",
    "    W2= W2 - lr*dW2\n",
    "    b2= b2 - lr*db2\n",
    "    \n",
    "    return W1,b1,W2,b2\n",
    "\n",
    "def predict(x):\n",
    "    return np.argmax(x,0)\n",
    "\n",
    "def accuracy(preds,x):\n",
    "    print(preds,x)\n",
    "    return np.sum(preds==x)/x.size\n",
    "    \n",
    "\n",
    "def train(X,y,itr):\n",
    "    W1,b1,W2,b2=initparams(X)\n",
    "    lr=0.08\n",
    "    \n",
    "    for i in range(itr+1):\n",
    "        Z1,A1,Z2,A2=fpass(X,W1,b1,W2,b2)\n",
    "        dW1,db1,dW2,db2=bpass(X,y,Z1,A1,Z2,A2,W2)\n",
    "        W1,b1,W2,b2=updateparams(W1,b1,W2,b2,dW1,db1,dW2,db2,lr)\n",
    "        \n",
    "        if i%50 ==0:\n",
    "            print(f\"iteration: {i}\")\n",
    "            print(f\"accuracy: {accuracy(predict(A2),y)}\") \n",
    "    \n",
    "    \n",
    "    "
   ]
  },
  {
   "cell_type": "code",
   "execution_count": null,
   "metadata": {},
   "outputs": [],
   "source": [
    "train(Xtrain, ytrain, 200)"
   ]
  }
 ],
 "metadata": {
  "kernelspec": {
   "display_name": "base",
   "language": "python",
   "name": "python3"
  },
  "language_info": {
   "codemirror_mode": {
    "name": "ipython",
    "version": 3
   },
   "file_extension": ".py",
   "mimetype": "text/x-python",
   "name": "python",
   "nbconvert_exporter": "python",
   "pygments_lexer": "ipython3",
   "version": "3.11.4"
  }
 },
 "nbformat": 4,
 "nbformat_minor": 2
}
