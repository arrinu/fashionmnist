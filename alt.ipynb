{
 "cells": [
  {
   "cell_type": "code",
   "execution_count": 212,
   "metadata": {},
   "outputs": [],
   "source": [
    "import numpy as np\n",
    "import pandas as pd\n",
    "from matplotlib import pyplot as plt"
   ]
  },
  {
   "cell_type": "code",
   "execution_count": 213,
   "metadata": {},
   "outputs": [],
   "source": [
    "data = pd.read_csv(\"./train.csv\")\n",
    "data = np.array(data)\n",
    "m, n = data.shape\n",
    "np.random.shuffle(data)\n",
    "\n",
    "data = data.T\n",
    "Ytrain = data[0]\n",
    "Xtrain = data[1:n]\n",
    "Xtrain = Xtrain / 255.0\n",
    "\n",
    "test_data = pd.read_csv(\"./test.csv\")\n",
    "test_data = np.array(test_data)\n",
    "test_data=test_data.T\n",
    "Ytest = test_data[0]\n",
    "Xtest = test_data[1:n]\n",
    "Xtest = Xtest / 255.0"
   ]
  },
  {
   "cell_type": "code",
   "execution_count": 214,
   "metadata": {},
   "outputs": [],
   "source": [
    "def RELU(Z):\n",
    "    return np.maximum(Z, 0)\n",
    "\n",
    "def dRELU(Z):\n",
    "    return Z > 0\n",
    "\n",
    "def softmax(Z):\n",
    "    Z -= np.max(Z, axis=0)\n",
    "    A = np.exp(Z) / sum(np.exp(Z))\n",
    "    return A"
   ]
  },
  {
   "cell_type": "code",
   "execution_count": 215,
   "metadata": {},
   "outputs": [],
   "source": [
    "def initparam(X):\n",
    "    m,n = X.shape\n",
    "    W1 = np.random.rand(10, m) - 0.5\n",
    "    b1 = np.random.rand(10, 1) - 0.5\n",
    "    W2 = np.random.rand(10, 10) - 0.5\n",
    "    b2 = np.random.rand(10, 1) - 0.5\n",
    "    return W1, b1, W2, b2\n",
    "\n",
    "def fpass(W1, b1, W2, b2, X):\n",
    "    Z1 = W1.dot(X) + b1\n",
    "    A1 = RELU(Z1)\n",
    "    Z2 = W2.dot(A1) + b2\n",
    "    A2 = softmax(Z2)\n",
    "    return Z1, A1, Z2, A2\n",
    "\n",
    "def onehot(Y):\n",
    "    ohY = np.zeros((Y.size, Y.max() + 1))\n",
    "    ohY[np.arange(Y.size), Y] = 1\n",
    "    ohY = ohY.T\n",
    "    return ohY"
   ]
  },
  {
   "cell_type": "code",
   "execution_count": 216,
   "metadata": {},
   "outputs": [],
   "source": [
    "def bpass(Z1, A1, Z2, A2, W1, W2, X, Y):\n",
    "    ohY = onehot(Y)\n",
    "    dZ2 = A2 - ohY\n",
    "    dW2 = 1 / m * dZ2.dot(A1.T)\n",
    "    db2 = 1 / m * np.sum(dZ2)\n",
    "    dZ1 = W2.T.dot(dZ2) * dRELU(Z1)\n",
    "    dW1 = 1 / m * dZ1.dot(X.T)\n",
    "    db1 = 1 / m * np.sum(dZ1)\n",
    "    return dW1, db1, dW2, db2\n",
    "\n",
    "def updateparam(W1, b1, W2, b2, dW1, db1, dW2, db2, lr):\n",
    "    W1 = W1 - lr * dW1\n",
    "    b1 = b1 - lr * db1    \n",
    "    W2 = W2 - lr * dW2  \n",
    "    b2 = b2 - lr * db2    \n",
    "    return W1, b1, W2, b2\n",
    "\n",
    "def predict(Z):\n",
    "    return np.argmax(Z, 0)\n",
    "\n",
    "def accuracy(preds, Y):\n",
    "    return np.sum(preds == Y) / Y.size\n",
    "\n",
    "def cost(A2, ohY):\n",
    "    m = A2.shape[1]\n",
    "    c = -1 / m * np.sum(ohY * np.log(A2 + 1e-8))\n",
    "    return c"
   ]
  },
  {
   "cell_type": "code",
   "execution_count": 217,
   "metadata": {},
   "outputs": [],
   "source": [
    "def train(X, Y, lr, itr):\n",
    "    W1, b1, W2, b2 = initparam(X)\n",
    "    cost_hist=[]\n",
    "    for i in range(itr+1):\n",
    "        Z1, A1, Z2, A2 = fpass(W1, b1, W2, b2, X)\n",
    "        dW1, db1, dW2, db2 = bpass(Z1, A1, Z2, A2, W1, W2, X, Y)\n",
    "        W1, b1, W2, b2 = updateparam(W1, b1, W2, b2, dW1, db1, dW2, db2, lr)\n",
    "        \n",
    "        cost_hist.append(cost(A2,onehot(Y)))\n",
    "        \n",
    "        if i % 50 == 0:\n",
    "            print(\"Iteration: \", i)\n",
    "            preds = predict(A2)\n",
    "            print(f\"accuracy: {accuracy(preds, Y)}\")\n",
    "                 \n",
    "    return W1, b1, W2, b2, cost_hist\n",
    "\n",
    "def test(W1, b1, W2, b2, X, Y):\n",
    "    Z1, A1, Z2, A2 = fpass(W1, b1, W2, b2, X)\n",
    "    preds = predict(A2)\n",
    "    print(f\"accuracy: {accuracy(preds, Y)}\")"
   ]
  },
  {
   "cell_type": "code",
   "execution_count": 218,
   "metadata": {},
   "outputs": [
    {
     "name": "stdout",
     "output_type": "stream",
     "text": [
      "Iteration:  0\n",
      "accuracy: 0.11473333333333334\n",
      "Iteration:  50\n",
      "accuracy: 0.53055\n",
      "Iteration:  100\n",
      "accuracy: 0.5928333333333333\n",
      "Iteration:  150\n",
      "accuracy: 0.6465\n",
      "Iteration:  200\n",
      "accuracy: 0.6757666666666666\n",
      "Iteration:  250\n",
      "accuracy: 0.6766333333333333\n",
      "Iteration:  300\n",
      "accuracy: 0.6983833333333334\n"
     ]
    }
   ],
   "source": [
    "W1, b1, W2, b2, costs = train(Xtrain, Ytrain, 0.1, 300)"
   ]
  },
  {
   "cell_type": "code",
   "execution_count": 219,
   "metadata": {},
   "outputs": [
    {
     "name": "stdout",
     "output_type": "stream",
     "text": [
      "accuracy: 0.6997\n"
     ]
    },
    {
     "data": {
      "image/png": "[encoded data removed]",
      "text/plain": [
       "<Figure size 640x480 with 1 Axes>"
      ]
     },
     "metadata": {},
     "output_type": "display_data"
    }
   ],
   "source": [
    "test(W1, b1, W2, b2, Xtest, Ytest)\n",
    "\n",
    "plt.plot(range(len(costs)), costs)\n",
    "plt.xlabel('Epoch')\n",
    "plt.ylabel('Cost')\n",
    "plt.show()"
   ]
  }
 ],
 "metadata": {
  "kernelspec": {
   "display_name": "Python 3",
   "language": "python",
   "name": "python3"
  },
  "language_info": {
   "codemirror_mode": {
    "name": "ipython",
    "version": 3
   },
   "file_extension": ".py",
   "mimetype": "text/x-python",
   "name": "python",
   "nbconvert_exporter": "python",
   "pygments_lexer": "ipython3",
   "version": "3.11.4"
  }
 },
 "nbformat": 4,
 "nbformat_minor": 2
}
